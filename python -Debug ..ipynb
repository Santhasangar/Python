{
 "cells": [
  {
   "cell_type": "code",
   "execution_count": 8,
   "id": "8e02775a",
   "metadata": {},
   "outputs": [
    {
     "name": "stdout",
     "output_type": "stream",
     "text": [
      "0\n",
      "1\n",
      "2\n",
      "3\n",
      "4\n"
     ]
    }
   ],
   "source": [
    "#1.Find the error in the following Python code:\n",
    "\n",
    "for i in range(5):\n",
    "    print(i)\n",
    "    "
   ]
  },
  {
   "cell_type": "code",
   "execution_count": 14,
   "id": "df3cee51",
   "metadata": {},
   "outputs": [
    {
     "name": "stdout",
     "output_type": "stream",
     "text": [
      "15\n"
     ]
    }
   ],
   "source": [
    "#2.What will be the output of this code? ading different data type will give error Error, change charecter to integer 5 \n",
    "\n",
    "a = 10\n",
    "b = 5\n",
    "print(a + b)\n",
    " "
   ]
  },
  {
   "cell_type": "code",
   "execution_count": 10,
   "id": "15c2e7b2",
   "metadata": {},
   "outputs": [
    {
     "data": {
      "text/plain": [
       "3"
      ]
     },
     "execution_count": 10,
     "metadata": {},
     "output_type": "execute_result"
    }
   ],
   "source": [
    "#3.What is the issue in this Python snippet? function Colon(:) was missing\n",
    "\n",
    "def add_numbers(a, b):\n",
    "    return a + b\n",
    "\n",
    "add_numbers(1,2)"
   ]
  },
  {
   "cell_type": "code",
   "execution_count": 18,
   "id": "2f8e5efd",
   "metadata": {},
   "outputs": [
    {
     "name": "stdout",
     "output_type": "stream",
     "text": [
      "4\n"
     ]
    }
   ],
   "source": [
    "\n",
    "#4.Identify the bug in the following Python code: unexpected intent and list index is out of range\n",
    "\n",
    "numbers = [1, 2, 3, 4]\n",
    "print(numbers[3])\n"
   ]
  },
  {
   "cell_type": "code",
   "execution_count": 20,
   "id": "bc0080c1",
   "metadata": {},
   "outputs": [
    {
     "name": "stdout",
     "output_type": "stream",
     "text": [
      "Hello, World!\n"
     ]
    }
   ],
   "source": [
    "#5.Find the error in the following Python code: Parantheseis is missing\n",
    "print(\"Hello, World!\")"
   ]
  },
  {
   "cell_type": "code",
   "execution_count": 28,
   "id": "5b449ecb",
   "metadata": {},
   "outputs": [
    {
     "name": "stdout",
     "output_type": "stream",
     "text": [
      "division by zero error\n"
     ]
    }
   ],
   "source": [
    "#6.Find the error in the following Python code: divide by zero exception, using tey and catch closed\n",
    "try:\n",
    " x = 5/0\n",
    "except ZeroDivisionError:\n",
    "    print(\"division by zero error\")"
   ]
  },
  {
   "cell_type": "code",
   "execution_count": 36,
   "id": "79260565",
   "metadata": {},
   "outputs": [
    {
     "name": "stdout",
     "output_type": "stream",
     "text": [
      "Name: Alice Age: 25\n"
     ]
    }
   ],
   "source": [
    "#7.Find the error in the following Python code:name = \"Alice\" is missing\n",
    "age = 25\n",
    "name = \"Alice\"\n",
    "print(f\"Name: {name} Age: {age}\")\n"
   ]
  },
  {
   "cell_type": "code",
   "execution_count": 50,
   "id": "3e4b6f3b",
   "metadata": {},
   "outputs": [
    {
     "name": "stdout",
     "output_type": "stream",
     "text": [
      "10\n",
      "9\n",
      "8\n",
      "7\n",
      "6\n",
      "5\n",
      "4\n",
      "3\n",
      "2\n"
     ]
    }
   ],
   "source": [
    "#8.Find the error: reverse the range value to -1 from 10 to 1\n",
    "for i in range(10, 1, -1):\n",
    "    print(i)\n"
   ]
  },
  {
   "cell_type": "code",
   "execution_count": 56,
   "id": "95976c4d",
   "metadata": {},
   "outputs": [],
   "source": [
    "#9. Find the error in the following Python code: comparision operator (\"==\") is missing\n",
    "x = 10\n",
    "if x == 5:\n",
    "    print(\"x is 5\")\n"
   ]
  },
  {
   "cell_type": "code",
   "execution_count": 62,
   "id": "317eca50",
   "metadata": {},
   "outputs": [
    {
     "name": "stdout",
     "output_type": "stream",
     "text": [
      "Hello, Sangar\n"
     ]
    }
   ],
   "source": [
    "#10. Identify the error in the following function definition: semicolon (:) is missing in function\n",
    "\n",
    "def greet(name):\n",
    "    print(\"Hello, \" + name)\n",
    "\n",
    "greet(\"Sangar\")"
   ]
  },
  {
   "cell_type": "code",
   "execution_count": null,
   "id": "a91517f4-0c3f-4165-aab1-76273df964d7",
   "metadata": {},
   "outputs": [],
   "source": []
  }
 ],
 "metadata": {
  "kernelspec": {
   "display_name": "Python [conda env:base] *",
   "language": "python",
   "name": "conda-base-py"
  },
  "language_info": {
   "codemirror_mode": {
    "name": "ipython",
    "version": 3
   },
   "file_extension": ".py",
   "mimetype": "text/x-python",
   "name": "python",
   "nbconvert_exporter": "python",
   "pygments_lexer": "ipython3",
   "version": "3.12.7"
  }
 },
 "nbformat": 4,
 "nbformat_minor": 5
}
