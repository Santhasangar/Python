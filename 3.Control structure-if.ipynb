{
 "cells": [
  {
   "cell_type": "code",
   "execution_count": 7,
   "id": "2db890a7-95a1-4937-a581-627459ff25c8",
   "metadata": {},
   "outputs": [
    {
     "name": "stdin",
     "output_type": "stream",
     "text": [
      "enter your age 17\n"
     ]
    },
    {
     "name": "stdout",
     "output_type": "stream",
     "text": [
      "Junior\n"
     ]
    }
   ],
   "source": [
    "age = int(input(\"enter your age\"))\n",
    "if (age <18):\n",
    "    print(\"Junior\")\n",
    "else:\n",
    "    print(\"Adult\")"
   ]
  },
  {
   "cell_type": "code",
   "execution_count": 23,
   "id": "8a5ba617-c271-4792-83b9-4d96dd9d4f16",
   "metadata": {},
   "outputs": [
    {
     "name": "stdin",
     "output_type": "stream",
     "text": [
      "enter your age 17\n"
     ]
    },
    {
     "name": "stdout",
     "output_type": "stream",
     "text": [
      "Children\n"
     ]
    }
   ],
   "source": [
    "age = int(input(\"enter your age\"))\n",
    "if (age <18):\n",
    "    print(\"Children\")\n",
    "elif(age<35):\n",
    "    print(\"Adult\")\n",
    "elif(age<59):\n",
    "    print(\"Citizen\")\n",
    "else:\n",
    "    print(\"senior citizen\")"
   ]
  },
  {
   "cell_type": "code",
   "execution_count": 31,
   "id": "eef076b3-804e-4fb4-8a85-cdbb579fa623",
   "metadata": {},
   "outputs": [
    {
     "name": "stdout",
     "output_type": "stream",
     "text": [
      "[10, 30, 25, 50, 60]\n",
      "10 year is Children\n",
      "30 year is Adult\n",
      "25 year is Adult\n",
      "50 year is Citizen\n",
      "60 year is senior citizen\n"
     ]
    }
   ],
   "source": [
    "list =[10,30,25,50,60]\n",
    "print(list)\n",
    "\n",
    "for age in list:\n",
    "    if (age <18):\n",
    "        print(f\"{age} year is Children\")\n",
    "    elif(age<35):\n",
    "        print(f\"{age} year is Adult\")\n",
    "    elif(age<59):\n",
    "        print(f\"{age} year is Citizen\")\n",
    "    else:\n",
    "        print(f\"{age} year is senior citizen\")\n"
   ]
  },
  {
   "cell_type": "code",
   "execution_count": 39,
   "id": "7071e103-c35e-4cfa-97a1-d572af286856",
   "metadata": {},
   "outputs": [
    {
     "name": "stdin",
     "output_type": "stream",
     "text": [
      "Enter number 7\n"
     ]
    },
    {
     "name": "stdout",
     "output_type": "stream",
     "text": [
      "Odd Number\n"
     ]
    }
   ],
   "source": [
    "num=int(input(\"Enter number\"))\n",
    "if((num%2) == 0):\n",
    "    print(\"Eve number\")\n",
    "else:\n",
    "    print(\"Odd Number\")"
   ]
  },
  {
   "cell_type": "code",
   "execution_count": null,
   "id": "82881b6e-03e1-4843-9d04-5768827502e0",
   "metadata": {},
   "outputs": [],
   "source": []
  }
 ],
 "metadata": {
  "kernelspec": {
   "display_name": "Python [conda env:base] *",
   "language": "python",
   "name": "conda-base-py"
  },
  "language_info": {
   "codemirror_mode": {
    "name": "ipython",
    "version": 3
   },
   "file_extension": ".py",
   "mimetype": "text/x-python",
   "name": "python",
   "nbconvert_exporter": "python",
   "pygments_lexer": "ipython3",
   "version": "3.12.7"
  }
 },
 "nbformat": 4,
 "nbformat_minor": 5
}
