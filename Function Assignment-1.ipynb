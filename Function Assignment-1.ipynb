{
 "cells": [
  {
   "cell_type": "code",
   "execution_count": 75,
   "id": "cd32aa3d-aee9-4683-b531-aa53c8228e8a",
   "metadata": {},
   "outputs": [],
   "source": [
    "list1 = ['Machine Learning', 'Neural Networks', 'Vision', 'Robotics', 'Speech Processing','Natural Language Processing']\n",
    "def subfield():\n",
    "   print(\"Sub-fields in AI are:\")\n",
    "   for i in list1:\n",
    "        print(i)"
   ]
  },
  {
   "cell_type": "code",
   "execution_count": 77,
   "id": "d68cf727-35d8-4b21-91e8-622c14ccf4d5",
   "metadata": {},
   "outputs": [
    {
     "name": "stdout",
     "output_type": "stream",
     "text": [
      "Sub-fields in AI are:\n",
      "Machine Learning\n",
      "Neural Networks\n",
      "Vision\n",
      "Robotics\n",
      "Speech Processing\n",
      "Natural Language Processing\n"
     ]
    }
   ],
   "source": [
    "subfield()"
   ]
  },
  {
   "cell_type": "code",
   "execution_count": 61,
   "id": "a3ed1e6c-ea08-4255-bf00-38e61fcde2d2",
   "metadata": {},
   "outputs": [],
   "source": [
    "def oddEven():\n",
    "    n=int(input(\"Enter a Number:\"))\n",
    "    if((n%2)==0):\n",
    "        print(f\"{n} is Even number\")\n",
    "    else:\n",
    "        print(f\"{n} is odd number\")\n"
   ]
  },
  {
   "cell_type": "code",
   "execution_count": 63,
   "id": "d4bdd58e-fdf5-4612-bab9-db8822984bed",
   "metadata": {},
   "outputs": [
    {
     "name": "stdin",
     "output_type": "stream",
     "text": [
      "Enter a Number: 4\n"
     ]
    },
    {
     "name": "stdout",
     "output_type": "stream",
     "text": [
      "4 is Even number\n"
     ]
    }
   ],
   "source": [
    "oddEven()"
   ]
  },
  {
   "cell_type": "code",
   "execution_count": 112,
   "id": "7d515ff0-4162-4952-9181-0dd0a51da807",
   "metadata": {},
   "outputs": [],
   "source": [
    "def Eligible():\n",
    "    gender=input(\"your Gender\")\n",
    "    Age=int(input(\"your Age\"))\n",
    "    if(gender ==\"Male\"):\n",
    "        if(Age >=21):\n",
    "            print(\"Eligible\")\n",
    "        else:\n",
    "            print(\"Not Eligible\")\n",
    "    elif(gender == \"Female\"):\n",
    "        if(Age>=18):\n",
    "            print(\"Eligible\")\n",
    "        else:\n",
    "            print(\"Not Eligible\")\n",
    "    "
   ]
  },
  {
   "cell_type": "code",
   "execution_count": 114,
   "id": "a1871486-17f0-449a-b796-84cfe7f761b6",
   "metadata": {},
   "outputs": [
    {
     "name": "stdin",
     "output_type": "stream",
     "text": [
      "your Gender Male\n",
      "your Age 18\n"
     ]
    },
    {
     "name": "stdout",
     "output_type": "stream",
     "text": [
      "Not Eligible\n"
     ]
    }
   ],
   "source": [
    "Eligible()"
   ]
  },
  {
   "cell_type": "code",
   "execution_count": 24,
   "id": "af64bec8-fe3d-4112-ada9-afa761f78a35",
   "metadata": {},
   "outputs": [
    {
     "name": "stdin",
     "output_type": "stream",
     "text": [
      "subject1=  23\n",
      "subject2=  45\n",
      "subject3=  34\n",
      "subject4=  23\n",
      "subject5=  23\n"
     ]
    },
    {
     "name": "stdout",
     "output_type": "stream",
     "text": [
      "Total:148\n",
      "percentage:29.599999999999998\n"
     ]
    }
   ],
   "source": [
    "def Percentage():\n",
    "    sub1=int(input(\"subject1= \"))\n",
    "    sub2=int(input(\"subject2= \"))\n",
    "    sub3=int(input(\"subject3= \"))\n",
    "    sub4=int(input(\"subject4= \"))\n",
    "    sub5=int(input(\"subject5= \"))\n",
    "    Total=int(sub1+sub2+sub3+sub4+sub5)\n",
    "    Per=((Total)/500)*100\n",
    "    print(f\"Total:{Total}\")\n",
    "    print(f\"percentage:{Per}\")\n",
    "\n",
    "Percentage()\n",
    "    "
   ]
  },
  {
   "cell_type": "code",
   "execution_count": 34,
   "id": "c713e52b-a181-4bc1-a012-bf1edef5c317",
   "metadata": {},
   "outputs": [
    {
     "name": "stdin",
     "output_type": "stream",
     "text": [
      "Height:  3\n",
      "Breadth:  4\n"
     ]
    },
    {
     "name": "stdout",
     "output_type": "stream",
     "text": [
      "Area Formula: Height*Breadth/2 \n",
      "Are of triangle: 6.0\n"
     ]
    },
    {
     "name": "stdin",
     "output_type": "stream",
     "text": [
      "Height1:  3\n",
      "Height2:  4\n",
      "Breadth:  45\n"
     ]
    },
    {
     "name": "stdout",
     "output_type": "stream",
     "text": [
      "Perimeter Formula: Height1+Height2+Breadth\n",
      "Perimeter of Triangle:52\n"
     ]
    }
   ],
   "source": [
    "def triangle():\n",
    "    H=int(input(\"Height: \"))\n",
    "    B=int(input(\"Breadth: \"))\n",
    "    print(\"Area Formula: Height*Breadth/2 \")\n",
    "    Area=(H*B)/2\n",
    "    print(f\"Are of triangle: {Area}\")\n",
    "    H1=int(input(\"Height1: \"))\n",
    "    H2=int(input(\"Height2: \"))\n",
    "    B=int(input(\"Breadth: \"))    \n",
    "    print(\"Perimeter Formula: Height1+Height2+Breadth\")\n",
    "    peri=H1+H2+B\n",
    "    print(f\"Perimeter of Triangle:{peri}\")\n",
    "\n",
    "triangle()"
   ]
  },
  {
   "cell_type": "code",
   "execution_count": null,
   "id": "ae852c1e-0fea-43aa-9fd9-25314e833eb5",
   "metadata": {},
   "outputs": [],
   "source": [
    "\n"
   ]
  }
 ],
 "metadata": {
  "kernelspec": {
   "display_name": "Python [conda env:base] *",
   "language": "python",
   "name": "conda-base-py"
  },
  "language_info": {
   "codemirror_mode": {
    "name": "ipython",
    "version": 3
   },
   "file_extension": ".py",
   "mimetype": "text/x-python",
   "name": "python",
   "nbconvert_exporter": "python",
   "pygments_lexer": "ipython3",
   "version": "3.12.7"
  }
 },
 "nbformat": 4,
 "nbformat_minor": 5
}
