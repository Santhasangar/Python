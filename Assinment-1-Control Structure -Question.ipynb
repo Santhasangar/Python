{
 "cells": [
  {
   "cell_type": "code",
   "execution_count": 9,
   "id": "675256c8-3c3e-44df-8106-a3a05c97903c",
   "metadata": {},
   "outputs": [
    {
     "name": "stdout",
     "output_type": "stream",
     "text": [
      "Welcome to Assignment-1\n"
     ]
    }
   ],
   "source": [
    "val = \"Welcome to Assignment-1\"\n",
    "if(val == \"Welcome to Assignment-1\"):\n",
    "    print(val)"
   ]
  },
  {
   "cell_type": "code",
   "execution_count": 23,
   "id": "5e352266-a676-45be-8bf6-37735e5170a6",
   "metadata": {},
   "outputs": [
    {
     "name": "stdout",
     "output_type": "stream",
     "text": [
      "Num1=10\n",
      "Num2=30\n",
      "Add=40\n"
     ]
    }
   ],
   "source": [
    "num1 = 10\n",
    "num2 = 30\n",
    "add = num1 + num2\n",
    "print(f\"Num1={num1}\\nNum2={num2}\\nAdd={add}\")"
   ]
  },
  {
   "cell_type": "code",
   "execution_count": 37,
   "id": "d4f3e561-84eb-4905-92ec-82fce7dfad67",
   "metadata": {},
   "outputs": [
    {
     "name": "stdin",
     "output_type": "stream",
     "text": [
      "Enter the BMI Index: 34\n"
     ]
    },
    {
     "name": "stdout",
     "output_type": "stream",
     "text": [
      "Very Overweight\n"
     ]
    }
   ],
   "source": [
    "BMI=float(input(\"Enter the BMI Index:\"))\n",
    "if(BMI < 18.5):\n",
    "          print(\"Under Weight\")\n",
    "elif(BMI > 18.5 and BMI <= 25):\n",
    "          print(\"Normal Weight\")\n",
    "elif(BMI > 25 and BMI <= 30):\n",
    "          print(\"Over Weight\")\n",
    "else:\n",
    "          print(\"Very Overweight\")\n",
    "        "
   ]
  },
  {
   "cell_type": "code",
   "execution_count": null,
   "id": "e3fc7c1f-e6ea-4f19-9c36-a5af5f0c6cee",
   "metadata": {},
   "outputs": [],
   "source": []
  }
 ],
 "metadata": {
  "kernelspec": {
   "display_name": "Python [conda env:base] *",
   "language": "python",
   "name": "conda-base-py"
  },
  "language_info": {
   "codemirror_mode": {
    "name": "ipython",
    "version": 3
   },
   "file_extension": ".py",
   "mimetype": "text/x-python",
   "name": "python",
   "nbconvert_exporter": "python",
   "pygments_lexer": "ipython3",
   "version": "3.12.7"
  }
 },
 "nbformat": 4,
 "nbformat_minor": 5
}
