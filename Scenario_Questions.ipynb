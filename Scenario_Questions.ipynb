{
 "cells": [
  {
   "cell_type": "code",
   "execution_count": null,
   "id": "2b2a8cb0-cf60-40f5-a386-977ca8d3213d",
   "metadata": {},
   "outputs": [],
   "source": [
    "1. Scenario: A system checks if a user is eligible to vote based on their age"
   ]
  },
  {
   "cell_type": "code",
   "execution_count": 10,
   "id": "4927c720-d846-475f-935e-d1fc1a80595c",
   "metadata": {},
   "outputs": [
    {
     "name": "stdin",
     "output_type": "stream",
     "text": [
      "Enter your Age 18\n"
     ]
    },
    {
     "name": "stdout",
     "output_type": "stream",
     "text": [
      "Your Eligible to Vote\n"
     ]
    }
   ],
   "source": [
    "def vote():\n",
    "    Age = int(input(\"Enter your Age\"))\n",
    "    if(Age>=18):\n",
    "        print(\"Your Eligible to Vote\")\n",
    "    else:\n",
    "        print(\"Your not Eligible to Vote\")\n",
    "\n",
    "vote()\n",
    "    "
   ]
  },
  {
   "cell_type": "code",
   "execution_count": null,
   "id": "d45e37da-3cea-4c81-85c7-eb2427df148a",
   "metadata": {},
   "outputs": [],
   "source": [
    "2.\tScenario: A program processes a list of numbers and needs to find the largest value.\n"
   ]
  },
  {
   "cell_type": "code",
   "execution_count": 24,
   "id": "159c45da-9494-467c-b578-031fdffb7528",
   "metadata": {},
   "outputs": [
    {
     "name": "stdout",
     "output_type": "stream",
     "text": [
      "17\n"
     ]
    }
   ],
   "source": [
    "def Largestnumber():\n",
    "    list = [10,3,5,15,8,17,2]\n",
    "    list.sort()\n",
    "    return list[-1]\n",
    "\n",
    "print(Largestnumber())\n"
   ]
  },
  {
   "cell_type": "code",
   "execution_count": null,
   "id": "3b247956-36fa-45ce-a64b-c2af766dabdd",
   "metadata": {},
   "outputs": [],
   "source": [
    "3.\tScenario: A company provides employees with a 10% bonus if their salary exceeds $50,000"
   ]
  },
  {
   "cell_type": "code",
   "execution_count": 36,
   "id": "1ab70596-53ed-48f8-aea1-e06cc131da33",
   "metadata": {},
   "outputs": [
    {
     "name": "stdin",
     "output_type": "stream",
     "text": [
      "Enter employee name sangar\n",
      "Enter your Salary 56000\n"
     ]
    },
    {
     "name": "stdout",
     "output_type": "stream",
     "text": [
      "Eligible for Bones of 10% of your Salary\n",
      "Name: sangar\n",
      "Salary: 56000.0\n",
      "Bones: 5600.0\n"
     ]
    }
   ],
   "source": [
    "def EmployeeBones():\n",
    "    Employeename = input(\"Enter employee name\")\n",
    "    salary = float(input(\"Enter your Salary\"))  \n",
    "    if(salary > 50000):\n",
    "        Bones = (salary * 10/100)\n",
    "        print(\"Eligible for Bones of 10% of your Salary\")\n",
    "        print(\"Name:\", Employeename)\n",
    "        print(\"Salary:\", salary)\n",
    "        print(\"Bones:\", Bones)        \n",
    "    else:\n",
    "        print(\" Not Eligible for Bones\")\n",
    "        print(\"Name:\", Employeename)\n",
    "        print(\"Salary:\", salary)\n",
    "        print(\"Bones:\", \"NA\")\n",
    "\n",
    "EmployeeBones()\n",
    "    "
   ]
  },
  {
   "cell_type": "code",
   "execution_count": null,
   "id": "dfcd1985-d387-4eb5-9f38-0cbe54e8ac4f",
   "metadata": {},
   "outputs": [],
   "source": [
    "4.\tScenario: A program evaluates a number to determine if it is even or odd.\n"
   ]
  },
  {
   "cell_type": "code",
   "execution_count": 43,
   "id": "d2fb8e89-8adc-4db2-8f45-33f931839633",
   "metadata": {},
   "outputs": [
    {
     "name": "stdin",
     "output_type": "stream",
     "text": [
      "Enter a Number: 10\n"
     ]
    },
    {
     "name": "stdout",
     "output_type": "stream",
     "text": [
      "10 is Even number\n"
     ]
    }
   ],
   "source": [
    "def oddEven():\n",
    "    n=int(input(\"Enter a Number:\"))\n",
    "    if((n%2)==0):\n",
    "        print(f\"{n} is Even number\")\n",
    "    else:\n",
    "        print(f\"{n} is odd number\")\n",
    "oddEven()"
   ]
  },
  {
   "cell_type": "code",
   "execution_count": null,
   "id": "0ef51a24-15dd-4109-aea4-5c448373a8e9",
   "metadata": {},
   "outputs": [],
   "source": [
    "5.\tScenario: A text-processing tool reverses a given word or sentence for formatting purposes."
   ]
  },
  {
   "cell_type": "code",
   "execution_count": 99,
   "id": "c816ee13-709d-4ff3-be3f-4431bde17892",
   "metadata": {},
   "outputs": [
    {
     "name": "stdout",
     "output_type": "stream",
     "text": [
      "Ascending Order: Hellow World\n",
      "Descending Order: dlroW wolleH\n"
     ]
    }
   ],
   "source": [
    "original_string =\"Hellow World\"\n",
    "\n",
    "reverse_string = \"\"\n",
    "forward_string = \"\"\n",
    "for i in original_string:\n",
    "    forward_string = forward_string + i\n",
    "    reverse_string = i + reverse_string\n",
    "\n",
    "print(\"Ascending Order:\", forward_string)\n",
    "print(\"Descending Order:\", reverse_string)"
   ]
  },
  {
   "cell_type": "code",
   "execution_count": null,
   "id": "9c714035-b0b9-4e75-bf97-516a9de13973",
   "metadata": {},
   "outputs": [],
   "source": [
    "6.\tScenario: A grading system determines whether a student has passed or failed based on their score."
   ]
  },
  {
   "cell_type": "code",
   "execution_count": 127,
   "id": "16e0ce14-17bc-4434-ad4b-ccd7949c2717",
   "metadata": {},
   "outputs": [
    {
     "name": "stdin",
     "output_type": "stream",
     "text": [
      "Enter studnet name sangar\n",
      "Enter your subject1 Mark 75\n",
      "Enter your subject2 Mark 70\n",
      "Enter your subject3 Mark 80\n",
      "Enter your subject4 Mark 90\n"
     ]
    },
    {
     "name": "stdout",
     "output_type": "stream",
     "text": [
      "Result: PASS with First class\n"
     ]
    }
   ],
   "source": [
    "def StudentPass():\n",
    "    student = input(\"Enter studnet name\")\n",
    "    subject1 = int(input(\"Enter your subject1 Mark\"))  \n",
    "    subject2 = int(input(\"Enter your subject2 Mark\"))\n",
    "    subject3 = int(input(\"Enter your subject3 Mark\"))\n",
    "    subject4 = int(input(\"Enter your subject4 Mark\"))\n",
    "    \n",
    "    if(subject1 >=75 and subject2>=75 and subject3>=75 and subject4>=75):\n",
    "        print(\"Result:\", \"PASS with Distinction\")\n",
    "    elif(subject1 >=60 and subject2>=60 and subject3>=60 and subject4>=60):\n",
    "        print(\"Result:\", \"PASS with First class\")\n",
    "    elif(subject1 >=40 and subject2>=40 and subject3>=40 and subject4>=40):\n",
    "        print(\"Result:\", \"PASS\")\n",
    "    elif(subject1 <40 or subject2<40 or subject3<40 or subject4<40):\n",
    "        print(\"Result:\", \"Failed\")\n",
    "\n",
    "StudentPass()"
   ]
  },
  {
   "cell_type": "code",
   "execution_count": null,
   "id": "9b1df8a9-079b-4532-be36-ca67d13be120",
   "metadata": {},
   "outputs": [],
   "source": [
    "7.\tScenario: A retail store offers a 20% discount if a customer’s total order exceeds $100.\n",
    "Write logic to calculate the final amount to be paid after applying the discount."
   ]
  },
  {
   "cell_type": "code",
   "execution_count": 155,
   "id": "851c8783-68bc-437a-b605-e058ccf94ead",
   "metadata": {},
   "outputs": [
    {
     "name": "stdin",
     "output_type": "stream",
     "text": [
      "Enter item value  OR Enter 0 to quit 50\n",
      "Enter item value  OR Enter 0 to quit 40\n",
      "Enter item value  OR Enter 0 to quit 60\n",
      "Enter item value  OR Enter 0 to quit 0\n"
     ]
    },
    {
     "name": "stdout",
     "output_type": "stream",
     "text": [
      "Your Total amount exceeding $100: 150\n",
      "Your 10% discount amount: 15.0\n",
      "Your Final payment after 10% discount: 135.0\n"
     ]
    }
   ],
   "source": [
    "Total = 0\n",
    "while True:\n",
    "    item=int(input(\"Enter item value  OR Enter 0 to quit\"))\n",
    "    if(item>0):\n",
    "        Total = Total +item\n",
    "    else:\n",
    "        break\n",
    "\n",
    "if(Total>100):\n",
    "    discount = ((Total*10)/100)\n",
    "    Payment = Total - discount\n",
    "    print(\"Your Total amount exceeding $100:\", Total)\n",
    "    print(\"Your 10% discount amount:\",discount)\n",
    "    print(\"Your Final payment after 10% discount:\", Payment)\n",
    "else:\n",
    "    print(\"Your Total Payment:\", Total)\n",
    "\n",
    "    "
   ]
  },
  {
   "cell_type": "code",
   "execution_count": null,
   "id": "411b207c-82af-4435-bb6c-c5bc53ad5442",
   "metadata": {},
   "outputs": [],
   "source": [
    "8.\tScenario: A banking system processes withdrawal requests and ensures the user has enough balance.\n",
    "Write logic to check if a user has enough balance before allowing a withdrawal and update the remaining balance accordingly."
   ]
  },
  {
   "cell_type": "code",
   "execution_count": 235,
   "id": "160a3b65-620f-41f2-9d55-fd4bebf9ce8c",
   "metadata": {},
   "outputs": [
    {
     "name": "stdout",
     "output_type": "stream",
     "text": [
      "Your current balance: 1000\n"
     ]
    },
    {
     "name": "stdin",
     "output_type": "stream",
     "text": [
      "Enter amount to withdraw or enter 0 to quit 100\n"
     ]
    },
    {
     "name": "stdout",
     "output_type": "stream",
     "text": [
      "your withdrawal amount: 100\n",
      "Your current balance: 900\n"
     ]
    },
    {
     "name": "stdin",
     "output_type": "stream",
     "text": [
      "Enter amount to withdraw or enter 0 to quit 200\n"
     ]
    },
    {
     "name": "stdout",
     "output_type": "stream",
     "text": [
      "your withdrawal amount: 200\n",
      "Your current balance: 700\n"
     ]
    },
    {
     "name": "stdin",
     "output_type": "stream",
     "text": [
      "Enter amount to withdraw or enter 0 to quit 300\n"
     ]
    },
    {
     "name": "stdout",
     "output_type": "stream",
     "text": [
      "your withdrawal amount: 300\n",
      "Your current balance: 400\n"
     ]
    },
    {
     "name": "stdin",
     "output_type": "stream",
     "text": [
      "Enter amount to withdraw or enter 0 to quit 600\n"
     ]
    },
    {
     "name": "stdout",
     "output_type": "stream",
     "text": [
      "No Available balance\n"
     ]
    }
   ],
   "source": [
    "class Bank:\n",
    "    def __init__(self,balance):\n",
    "        self.balance = balance\n",
    "        \n",
    "    def display(self):\n",
    "        print(\"Your current balance:\", self.balance)\n",
    "        \n",
    "    def withdraw(self,amount):\n",
    "        if(amount> 1 and amount <= self.balance ):\n",
    "            self.balance = self.balance - amount\n",
    "            print(\"your withdrawal amount:\",amount)\n",
    "            return 1\n",
    "        else:\n",
    "            print(\"No Available balance\")\n",
    "            return 0\n",
    "\n",
    "\n",
    "b = Bank(1000)\n",
    "b.display()\n",
    "\n",
    "while True:\n",
    "    amount = int(input(\"Enter amount to withdraw or enter 0 to quit\"))\n",
    "    if(b.withdraw(amount)):\n",
    "        b.display()\n",
    "    else:\n",
    "        break\n",
    "        "
   ]
  },
  {
   "cell_type": "code",
   "execution_count": null,
   "id": "7f3cacb2-3e77-41d8-acdd-f85031b7f914",
   "metadata": {},
   "outputs": [],
   "source": [
    "9.\tScenario: A calendar system verifies whether a given year is a leap year based on standard leap year rules."
   ]
  },
  {
   "cell_type": "code",
   "execution_count": 175,
   "id": "92f9fb82-352d-401e-ac93-1c234698db3b",
   "metadata": {},
   "outputs": [
    {
     "name": "stdin",
     "output_type": "stream",
     "text": [
      "Enter year to test: 2024\n"
     ]
    },
    {
     "name": "stdout",
     "output_type": "stream",
     "text": [
      "2024  is a Leap year\n"
     ]
    }
   ],
   "source": [
    "def isyearleap():\n",
    "    year=int(input(\"Enter year to test:\"))\n",
    "    if((year%4==0 and year%100!=0) or (year%400==0)):\n",
    "        print(year,\" is a Leap year\")\n",
    "    else:\n",
    "        print(year, \"is not a Leap year\")\n",
    "\n",
    "isyearleap()"
   ]
  },
  {
   "cell_type": "code",
   "execution_count": null,
   "id": "a0e3f58c-2e40-47b7-ae2a-e5764ea8177b",
   "metadata": {},
   "outputs": [],
   "source": [
    "10.\tScenario: A program filters out only even numbers from a given list."
   ]
  },
  {
   "cell_type": "code",
   "execution_count": 159,
   "id": "7e89a22e-af2e-40c8-b7e1-04344a38c7e4",
   "metadata": {},
   "outputs": [
    {
     "name": "stdout",
     "output_type": "stream",
     "text": [
      "[10, 20, 22, 10, 100]\n"
     ]
    }
   ],
   "source": [
    "list = [10,20,22,35,37,7,10,17,15,19,100]\n",
    "even_list = []\n",
    "\n",
    "for i in list:\n",
    "    if(i%2==0):\n",
    "        even_list.append(i)\n",
    "\n",
    "print(even_list)"
   ]
  },
  {
   "cell_type": "code",
   "execution_count": null,
   "id": "691d5285-57ad-450c-ad25-f256a55ec825",
   "metadata": {},
   "outputs": [],
   "source": []
  }
 ],
 "metadata": {
  "kernelspec": {
   "display_name": "Python [conda env:base] *",
   "language": "python",
   "name": "conda-base-py"
  },
  "language_info": {
   "codemirror_mode": {
    "name": "ipython",
    "version": 3
   },
   "file_extension": ".py",
   "mimetype": "text/x-python",
   "name": "python",
   "nbconvert_exporter": "python",
   "pygments_lexer": "ipython3",
   "version": "3.12.7"
  }
 },
 "nbformat": 4,
 "nbformat_minor": 5
}
