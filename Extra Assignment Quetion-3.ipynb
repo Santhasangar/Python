{
 "cells": [
  {
   "cell_type": "code",
   "execution_count": 5,
   "id": "57c6ea6b-b946-4a1e-a155-d68aef94cbc7",
   "metadata": {},
   "outputs": [
    {
     "name": "stdout",
     "output_type": "stream",
     "text": [
      "Value:10 \n",
      "correct\n"
     ]
    }
   ],
   "source": [
    "i=10\n",
    "if(i==10):\n",
    "    print(f\"Value:{i} \\ncorrect\")"
   ]
  },
  {
   "cell_type": "code",
   "execution_count": 25,
   "id": "fe3282f8-b938-4d37-86ab-4d5085cfaf54",
   "metadata": {},
   "outputs": [
    {
     "name": "stdin",
     "output_type": "stream",
     "text": [
      "Enter the password: HOPE@123\n"
     ]
    },
    {
     "name": "stdout",
     "output_type": "stream",
     "text": [
      "Your Password is correct\n"
     ]
    }
   ],
   "source": [
    "p=input(\"Enter the password:\")\n",
    "if(p==\"HOPE@123\"):\n",
    "    print(\"Your Password is correct\")\n",
    "else\n",
    "    print(\"Your Password is incorrect\")\n",
    "    "
   ]
  },
  {
   "cell_type": "code",
   "execution_count": 33,
   "id": "63fb83bb-001e-4a2a-8341-83b4a2f952b8",
   "metadata": {},
   "outputs": [
    {
     "name": "stdin",
     "output_type": "stream",
     "text": [
      "age: 20\n"
     ]
    },
    {
     "name": "stdout",
     "output_type": "stream",
     "text": [
      "Adult\n"
     ]
    }
   ],
   "source": [
    "age = int(input(\"age:\"))\n",
    "if age<18:\n",
    "    print(\"Children\")\n",
    "elif age<30:\n",
    "    print(\"Adult\")\n",
    "elif age<55:\n",
    "    print(\"Citizen\")\n",
    "else:\n",
    "    print(\"Senior Citizen\")"
   ]
  },
  {
   "cell_type": "code",
   "execution_count": 51,
   "id": "2a6d0714-9209-4058-be5e-7273f59f3fa3",
   "metadata": {},
   "outputs": [
    {
     "name": "stdin",
     "output_type": "stream",
     "text": [
      "Enter any number 1\n"
     ]
    },
    {
     "name": "stdout",
     "output_type": "stream",
     "text": [
      "Number is Positive\n"
     ]
    }
   ],
   "source": [
    "num=int(input(\"Enter any number\"))\n",
    "if(num>0):\n",
    "    print(\"Number is Positive\")\n",
    "elif(num<0):\n",
    "    print(\"Number is Negative\")\n",
    "else:\n",
    "    print(\"Zero is not a number\")\n",
    "              \n",
    "   "
   ]
  },
  {
   "cell_type": "code",
   "execution_count": 75,
   "id": "9ec64a0a-3635-4ca3-988a-1b3b4fe04884",
   "metadata": {},
   "outputs": [
    {
     "name": "stdin",
     "output_type": "stream",
     "text": [
      "Enter any number 22\n"
     ]
    },
    {
     "name": "stdout",
     "output_type": "stream",
     "text": [
      "No is not Divisible by 5\n"
     ]
    }
   ],
   "source": [
    "num=int(input(\"Enter any number\"))\n",
    "\n",
    "if((num%5)==0):\n",
    "    print(\"no is Divisible by 5\")\n",
    "else:\n",
    "    print(\"No is not Divisible by 5\")"
   ]
  },
  {
   "cell_type": "code",
   "execution_count": null,
   "id": "3b57df35-dafc-4c1c-95f9-c2c6a8e0efc4",
   "metadata": {},
   "outputs": [],
   "source": []
  }
 ],
 "metadata": {
  "kernelspec": {
   "display_name": "Python [conda env:base] *",
   "language": "python",
   "name": "conda-base-py"
  },
  "language_info": {
   "codemirror_mode": {
    "name": "ipython",
    "version": 3
   },
   "file_extension": ".py",
   "mimetype": "text/x-python",
   "name": "python",
   "nbconvert_exporter": "python",
   "pygments_lexer": "ipython3",
   "version": "3.12.7"
  }
 },
 "nbformat": 4,
 "nbformat_minor": 5
}
