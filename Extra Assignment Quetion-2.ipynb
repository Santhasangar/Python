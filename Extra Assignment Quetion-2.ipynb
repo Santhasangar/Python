{
 "cells": [
  {
   "cell_type": "code",
   "execution_count": 27,
   "id": "32f733b9-bdd6-4e15-93e5-672751650492",
   "metadata": {},
   "outputs": [
    {
     "name": "stdout",
     "output_type": "stream",
     "text": [
      "[1, 2, 3, 4, 5, 6, 7, 8, 9, 10, 11, 12, 13, 14, 15, 16, 17, 18, 19]\n"
     ]
    }
   ],
   "source": [
    "print([i for i in range(1,20)])"
   ]
  },
  {
   "cell_type": "code",
   "execution_count": 31,
   "id": "f45fb939-93f1-4d6e-b665-c3a7df9d38b8",
   "metadata": {},
   "outputs": [
    {
     "name": "stdout",
     "output_type": "stream",
     "text": [
      "[10, 11, 12, 13, 14, 15, 16, 17, 18, 19]\n"
     ]
    }
   ],
   "source": [
    "list1 = [i for i in range(10,20)]\n",
    "print(list1)"
   ]
  },
  {
   "cell_type": "code",
   "execution_count": 43,
   "id": "6693a8e6-e31c-41d2-8730-e1106523c2d8",
   "metadata": {},
   "outputs": [
    {
     "name": "stdout",
     "output_type": "stream",
     "text": [
      "[10, 20, 14, 55, 43, 87, 76] \n",
      "Number of item in the List2: \n",
      "7\n"
     ]
    }
   ],
   "source": [
    "list2 = [10, 20, 14, 55, 43, 87, 76]\n",
    "print(f\"{list2} \\nNumber of item in the List2: \\n{len(list2)}\")"
   ]
  },
  {
   "cell_type": "code",
   "execution_count": null,
   "id": "7654ab59-0ae9-44da-a94b-2526201ede0c",
   "metadata": {},
   "outputs": [],
   "source": []
  }
 ],
 "metadata": {
  "kernelspec": {
   "display_name": "Python [conda env:base] *",
   "language": "python",
   "name": "conda-base-py"
  },
  "language_info": {
   "codemirror_mode": {
    "name": "ipython",
    "version": 3
   },
   "file_extension": ".py",
   "mimetype": "text/x-python",
   "name": "python",
   "nbconvert_exporter": "python",
   "pygments_lexer": "ipython3",
   "version": "3.12.7"
  }
 },
 "nbformat": 4,
 "nbformat_minor": 5
}
