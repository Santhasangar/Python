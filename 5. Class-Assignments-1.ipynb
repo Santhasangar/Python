{
 "cells": [
  {
   "cell_type": "code",
   "execution_count": 20,
   "id": "e490ee2f-892d-407d-88a4-416184502028",
   "metadata": {},
   "outputs": [
    {
     "name": "stdout",
     "output_type": "stream",
     "text": [
      "Sub-Fields in AI are:\n",
      "Machine Learning\n",
      "Neural Networks\n",
      "Vision\n",
      "Robotics\n",
      "Speech Processing\n",
      "Natural Language Processing\n"
     ]
    }
   ],
   "source": [
    "class subfieldsInAI:\n",
    "    def __init__(self, list):\n",
    "        self.list=list\n",
    "\n",
    "    def Subfields(self):\n",
    "        print(\"Sub-Fields in AI are:\")\n",
    "        for i in list:\n",
    "            print(i)\n",
    "\n",
    "list = ['Machine Learning','Neural Networks','Vision','Robotics','Speech Processing','Natural Language Processing']\n",
    "\n",
    "\n",
    "sub = subfieldsInAI(list)\n",
    "sub.Subfields()\n",
    "        "
   ]
  },
  {
   "cell_type": "code",
   "execution_count": 182,
   "id": "f5ec43dc-b62d-4003-a2fb-ffc20131e167",
   "metadata": {},
   "outputs": [
    {
     "name": "stdin",
     "output_type": "stream",
     "text": [
      "Enter a Number 52452\n"
     ]
    },
    {
     "name": "stdout",
     "output_type": "stream",
     "text": [
      "52452 is Even Number\n"
     ]
    }
   ],
   "source": [
    "class OddEven:\n",
    "    def __init__(self,value):\n",
    "        self.value = value\n",
    "\n",
    "    def OddEven(self):\n",
    "        if(((self.value)%2)==0):\n",
    "            return(f\"{self.value} is Even Number\")\n",
    "        else:\n",
    "            return(f\"{self.value} is Odd Number\")\n",
    "         \n",
    "num = int(input(\"Enter a Number\"))\n",
    "print(OddEven(num).OddEven())"
   ]
  },
  {
   "cell_type": "code",
   "execution_count": null,
   "id": "2aa577e6-4d72-4edd-8047-1ad81831d4c9",
   "metadata": {},
   "outputs": [],
   "source": []
  },
  {
   "cell_type": "code",
   "execution_count": null,
   "id": "425a2647-d642-4342-8699-e98571e40e75",
   "metadata": {},
   "outputs": [],
   "source": []
  },
  {
   "cell_type": "code",
   "execution_count": 184,
   "id": "852b3d24-418e-4e98-bb81-ab22a18d767f",
   "metadata": {},
   "outputs": [
    {
     "name": "stdin",
     "output_type": "stream",
     "text": [
      "your Gender: Male\n",
      "your Age: 20\n"
     ]
    },
    {
     "name": "stdout",
     "output_type": "stream",
     "text": [
      "NOT ELIGIBLE\n"
     ]
    }
   ],
   "source": [
    "class EligibilityForMarriage:\n",
    "    def __init__(self,age,gender):\n",
    "      self.age = age\n",
    "      self.gender = gender\n",
    "    \n",
    "    def Eligible(self):       \n",
    "        if(self.gender ==\"Male\"):\n",
    "            if(self.age >=21):\n",
    "                print(\"ELIGIBLE\")\n",
    "            else:\n",
    "                print(\"NOT ELIGIBLE\")\n",
    "        elif(self.gender == \"Female\"):\n",
    "            if(self.age>=18):\n",
    "                print(\"ELIGIBLE\")\n",
    "            else:\n",
    "                print(\"NOT ELIGIBLE\")\n",
    "\n",
    "gender=input(\"your Gender:\")\n",
    "age=int(input(\"your Age:\"))\n",
    "E = EligibilityForMarriage(age,gender)\n",
    "E.Eligible()"
   ]
  },
  {
   "cell_type": "code",
   "execution_count": 214,
   "id": "58f445d8-1d5f-41dd-af9e-fc13e73d82cf",
   "metadata": {},
   "outputs": [
    {
     "name": "stdin",
     "output_type": "stream",
     "text": [
      "subject1=  95\n",
      "subject2=  95\n",
      "subject3=  95\n",
      "subject4=  95\n",
      "subject5=  95\n"
     ]
    },
    {
     "name": "stdout",
     "output_type": "stream",
     "text": [
      "Total:475\n",
      "percentage:95.0\n"
     ]
    }
   ],
   "source": [
    "class FindPercent:\n",
    "    def __init__(self, sub1, sub2, sub3, sub4, sub5):\n",
    "        self.sub1 = sub1\n",
    "        self.sub2 = sub2\n",
    "        self.sub3 = sub3\n",
    "        self.sub4 = sub4\n",
    "        self.sub5 = sub5\n",
    "    \n",
    "    def Percentage(self):\n",
    "            Total=int(self.sub1+self.sub2+self.sub3+self.sub4+self.sub5)\n",
    "            Per=((Total)/500)*100\n",
    "            print(f\"Total:{Total}\")\n",
    "            print(f\"percentage:{Per}\")\n",
    "        \n",
    "sub1=int(input(\"subject1= \"))\n",
    "sub2=int(input(\"subject2= \"))\n",
    "sub3=int(input(\"subject3= \"))\n",
    "sub4=int(input(\"subject4= \"))\n",
    "sub5=int(input(\"subject5= \"))\n",
    "\n",
    "FindPercent(sub1,sub2,sub3,sub4,sub5).Percentage()"
   ]
  },
  {
   "cell_type": "code",
   "execution_count": null,
   "id": "e9359fd3-5fdb-4c49-a762-9568634b1a76",
   "metadata": {},
   "outputs": [],
   "source": []
  },
  {
   "cell_type": "code",
   "execution_count": 256,
   "id": "8d9548a3-38e8-4363-8cfd-683a022483f1",
   "metadata": {},
   "outputs": [
    {
     "name": "stdin",
     "output_type": "stream",
     "text": [
      "Height:  32\n",
      "Breadth:  34\n",
      "Height1:  2\n",
      "Height2:  4\n",
      "Breadth:  4\n"
     ]
    },
    {
     "name": "stdout",
     "output_type": "stream",
     "text": [
      "Area Formula: Height*Breadth/2 \n",
      "Are of triangle: 544.0\n",
      "Perimeter Formula: Height1+Height2+Breadth\n",
      "Perimeter of Triangle:10\n"
     ]
    }
   ],
   "source": [
    "class CalTriangle:\n",
    "    def __init__(self,height, breadth,height1,height2,breadth2):\n",
    "        self.height = height\n",
    "        self.breadth = breadth\n",
    "        self.height1 = height1\n",
    "        self.height2 = height2\n",
    "        self.breadth2 = breadth2\n",
    "\n",
    "    def triangle(self):\n",
    "        print(\"Area Formula: Height*Breadth/2 \")\n",
    "        Area=float(self.height*self.breadth)/2\n",
    "        print(f\"Are of triangle: {Area}\")           \n",
    "        print(\"Perimeter Formula: Height1+Height2+Breadth\")\n",
    "        peri=int(self.height1+self.height2+self.breadth2)\n",
    "        print(f\"Perimeter of Triangle:{peri}\")\n",
    "\n",
    "\n",
    "    H=int(input(\"Height: \"))\n",
    "    B=int(input(\"Breadth: \"))       \n",
    "    H1=int(input(\"Height1: \"))\n",
    "    H2=int(input(\"Height2: \"))\n",
    "    B2=int(input(\"Breadth: \"))   \n",
    "    C = CalTriangle(H,B,H1,H2,B2)\n",
    "    C.triangle()"
   ]
  },
  {
   "cell_type": "code",
   "execution_count": null,
   "id": "76eab232-c60f-41bf-b95d-7a39bc29f842",
   "metadata": {},
   "outputs": [],
   "source": []
  }
 ],
 "metadata": {
  "kernelspec": {
   "display_name": "Python [conda env:base] *",
   "language": "python",
   "name": "conda-base-py"
  },
  "language_info": {
   "codemirror_mode": {
    "name": "ipython",
    "version": 3
   },
   "file_extension": ".py",
   "mimetype": "text/x-python",
   "name": "python",
   "nbconvert_exporter": "python",
   "pygments_lexer": "ipython3",
   "version": "3.12.7"
  }
 },
 "nbformat": 4,
 "nbformat_minor": 5
}
